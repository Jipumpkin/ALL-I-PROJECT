{
 "cells": [
  {
   "cell_type": "markdown",
   "metadata": {},
   "source": [
    "# 🎨 OpenAI GPT Image 1 API - 코랩 사용 가이드\n",
    "\n",
    "이 노트북은 OpenAI의 최신 GPT Image 1 모델을 Google Colab에서 사용하는 방법을 보여줍니다.\n",
    "\n",
    "## 주요 특징\n",
    "- **gpt-image-1**: DALL-E 3보다 향상된 최신 모델\n",
    "- **Input Fidelity**: 얼굴/로고 등 세부사항 고정밀 보존\n",
    "- **High Quality**: 전문가급 이미지 생성\n",
    "\n",
    "## 필요사항\n",
    "- OpenAI API 키\n",
    "- Organization 인증 (GPT Image 1 사용 시)"
   ]
  },
  {
   "cell_type": "markdown",
   "metadata": {},
   "source": [
    "## 1️⃣ 환경 설정"
   ]
  },
  {
   "cell_type": "code",
   "execution_count": null,
   "metadata": {},
   "outputs": [],
   "source": [
    "# 필요한 라이브러리 설치\n",
    "!pip install openai pillow requests"
   ]
  },
  {
   "cell_type": "code",
   "execution_count": null,
   "metadata": {},
   "outputs": [],
   "source": [
    "import os\n",
    "import requests\n",
    "from openai import OpenAI\n",
    "from IPython.display import Image, display\n",
    "from PIL import Image as PILImage\n",
    "import io"
   ]
  },
  {
   "cell_type": "code",
   "execution_count": null,
   "metadata": {},
   "outputs": [],
   "source": [
    "# API 키 설정 (보안을 위해 Colab Secrets 사용 권장)\n",
    "# Colab에서: 왼쪽 사이드바 > 🔑 아이콘 > API_KEY 추가\n",
    "\n",
    "try:\n",
    "    from google.colab import userdata\n",
    "    api_key = userdata.get('OPENAI_API_KEY')\n",
    "except:\n",
    "    # 직접 입력 (보안 주의!)\n",
    "    api_key = input(\"OpenAI API 키를 입력하세요: \")\n",
    "\n",
    "os.environ['OPENAI_API_KEY'] = api_key\n",
    "client = OpenAI(api_key=api_key)\n",
    "\n",
    "print(\"✅ OpenAI 클라이언트 설정 완료\")"
   ]
  },
  {
   "cell_type": "markdown",
   "metadata": {},
   "source": [
    "## 2️⃣ 기본 이미지 생성 (GPT Image 1)"
   ]
  },
  {
   "cell_type": "code",
   "execution_count": null,
   "metadata": {},
   "outputs": [],
   "source": [
    "# 기본 이미지 생성\n",
    "def generate_image(prompt, size=\"1024x1024\", quality=\"standard\"):\n",
    "    try:\n",
    "        response = client.images.generate(\n",
    "            model=\"gpt-image-1\",\n",
    "            prompt=prompt,\n",
    "            size=size,\n",
    "            quality=quality,\n",
    "            n=1\n",
    "        )\n",
    "        \n",
    "        image_url = response.data[0].url\n",
    "        print(f\"🎨 이미지 생성 완료: {prompt}\")\n",
    "        \n",
    "        # 이미지 표시\n",
    "        display(Image(url=image_url))\n",
    "        return image_url\n",
    "        \n",
    "    except Exception as e:\n",
    "        print(f\"❌ 오류: {e}\")\n",
    "        return None\n",
    "\n",
    "# 예시 실행\n",
    "prompt = \"귀여운 강아지가 공원에서 뛰어노는 모습, 디지털 아트 스타일\"\n",
    "image_url = generate_image(prompt)"
   ]
  },
  {
   "cell_type": "markdown",
   "metadata": {},
   "source": [
    "## 3️⃣ High Input Fidelity 이미지 생성"
   ]
  },
  {
   "cell_type": "code",
   "execution_count": null,
   "metadata": {},
   "outputs": [],
   "source": [
    "# High Fidelity 모드 - 얼굴/세부사항 정확히 보존\n",
    "def generate_high_fidelity_image(prompt, input_image_url=None):\n",
    "    try:\n",
    "        # GPT Image 1의 고품질 생성\n",
    "        response = client.images.generate(\n",
    "            model=\"gpt-image-1\",\n",
    "            prompt=prompt,\n",
    "            # input_fidelity=\"high\",  # 입력 이미지가 있을 때 사용\n",
    "            size=\"1024x1024\",\n",
    "            quality=\"hd\",  # 고품질 모드\n",
    "            n=1\n",
    "        )\n",
    "        \n",
    "        image_url = response.data[0].url\n",
    "        print(f\"🎨 High Fidelity 이미지 생성: {prompt}\")\n",
    "        display(Image(url=image_url))\n",
    "        return image_url\n",
    "        \n",
    "    except Exception as e:\n",
    "        print(f\"❌ 오류: {e}\")\n",
    "        return None\n",
    "\n",
    "# 고품질 이미지 생성 예시\n",
    "hd_prompt = \"사실적인 초상화, 젊은 여성, 자연스러운 미소, 스튜디오 조명\"\n",
    "hd_image = generate_high_fidelity_image(hd_prompt)"
   ]
  },
  {
   "cell_type": "markdown",
   "metadata": {},
   "source": [
    "## 4️⃣ 이미지 분석 (Vision API)"
   ]
  },
  {
   "cell_type": "code",
   "execution_count": null,
   "metadata": {},
   "outputs": [],
   "source": [
    "# 이미지 분석 함수\n",
    "def analyze_image(image_url, question=\"이 이미지에 대해 설명해주세요\"):\n",
    "    try:\n",
    "        response = client.chat.completions.create(\n",
    "            model=\"gpt-4o\",\n",
    "            messages=[\n",
    "                {\n",
    "                    \"role\": \"user\",\n",
    "                    \"content\": [\n",
    "                        {\"type\": \"text\", \"text\": question},\n",
    "                        {\n",
    "                            \"type\": \"image_url\",\n",
    "                            \"image_url\": {\"url\": image_url}\n",
    "                        }\n",
    "                    ]\n",
    "                }\n",
    "            ],\n",
    "            max_tokens=500\n",
    "        )\n",
    "        \n",
    "        analysis = response.choices[0].message.content\n",
    "        print(f\"🔍 이미지 분석 결과:\")\n",
    "        print(analysis)\n",
    "        return analysis\n",
    "        \n",
    "    except Exception as e:\n",
    "        print(f\"❌ 분석 오류: {e}\")\n",
    "        return None\n",
    "\n",
    "# 생성된 이미지 분석\n",
    "if 'image_url' in locals() and image_url:\n",
    "    analyze_image(image_url, \"이 이미지의 구성 요소와 스타일을 분석해주세요\")"
   ]
  },
  {
   "cell_type": "markdown",
   "metadata": {},
   "source": [
    "## 5️⃣ 이미지 편집 (DALL-E 2)"
   ]
  },
  {
   "cell_type": "code",
   "execution_count": null,
   "metadata": {},
   "outputs": [],
   "source": [
    "# 이미지 편집 (마스크 없이)\n",
    "def edit_image_simple(original_url, edit_prompt):\n",
    "    try:\n",
    "        # 원본 이미지 다운로드\n",
    "        response = requests.get(original_url)\n",
    "        original_image = PILImage.open(io.BytesIO(response.content))\n",
    "        \n",
    "        # PNG로 변환 (투명도 추가)\n",
    "        if original_image.mode != 'RGBA':\n",
    "            original_image = original_image.convert('RGBA')\n",
    "        \n",
    "        # 임시 파일로 저장\n",
    "        original_image.save('/tmp/original.png')\n",
    "        \n",
    "        # DALL-E 2로 편집\n",
    "        with open('/tmp/original.png', 'rb') as image_file:\n",
    "            edit_response = client.images.edit(\n",
    "                model=\"dall-e-2\",\n",
    "                image=image_file,\n",
    "                prompt=edit_prompt,\n",
    "                n=1,\n",
    "                size=\"1024x1024\"\n",
    "            )\n",
    "        \n",
    "        edited_url = edit_response.data[0].url\n",
    "        print(f\"✏️ 이미지 편집 완료: {edit_prompt}\")\n",
    "        display(Image(url=edited_url))\n",
    "        return edited_url\n",
    "        \n",
    "    except Exception as e:\n",
    "        print(f\"❌ 편집 오류: {e}\")\n",
    "        return None\n",
    "\n",
    "# 편집 예시 (이전에 생성한 이미지가 있다면)\n",
    "if 'image_url' in locals() and image_url:\n",
    "    edit_prompt = \"배경을 아름다운 해변으로 바꿔주세요\"\n",
    "    edited_image = edit_image_simple(image_url, edit_prompt)"
   ]
  },
  {
   "cell_type": "markdown",
   "metadata": {},
   "source": [
    "## 6️⃣ 배치 이미지 생성"
   ]
  },
  {
   "cell_type": "code",
   "execution_count": null,
   "metadata": {},
   "outputs": [],
   "source": [
    "# 여러 이미지 생성\n",
    "def generate_multiple_images(prompts, model=\"gpt-image-1\"):\n",
    "    results = []\n",
    "    \n",
    "    for i, prompt in enumerate(prompts):\n",
    "        print(f\"🎨 {i+1}/{len(prompts)} 생성 중: {prompt[:50]}...\")\n",
    "        \n",
    "        try:\n",
    "            response = client.images.generate(\n",
    "                model=model,\n",
    "                prompt=prompt,\n",
    "                size=\"1024x1024\",\n",
    "                quality=\"standard\",\n",
    "                n=1\n",
    "            )\n",
    "            \n",
    "            image_url = response.data[0].url\n",
    "            results.append({\"prompt\": prompt, \"url\": image_url})\n",
    "            \n",
    "            # 이미지 표시\n",
    "            print(f\"✅ 완료: {prompt}\")\n",
    "            display(Image(url=image_url))\n",
    "            \n",
    "        except Exception as e:\n",
    "            print(f\"❌ 오류: {e}\")\n",
    "            results.append({\"prompt\": prompt, \"error\": str(e)})\n",
    "    \n",
    "    return results\n",
    "\n",
    "# 동물 테마 이미지 생성\n",
    "animal_prompts = [\n",
    "    \"귀여운 골든 리트리버 강아지, 햇살 가득한 정원에서\",\n",
    "    \"우아한 페르시안 고양이, 창가에서 낮잠자는 모습\",\n",
    "    \"활발한 토끼, 당근을 먹고 있는 모습, 만화 스타일\"\n",
    "]\n",
    "\n",
    "animal_results = generate_multiple_images(animal_prompts)"
   ]
  },
  {
   "cell_type": "markdown",
   "metadata": {},
   "source": [
    "## 7️⃣ 이미지 다운로드 및 저장"
   ]
  },
  {
   "cell_type": "code",
   "execution_count": null,
   "metadata": {},
   "outputs": [],
   "source": [
    "# 이미지 다운로드 및 저장\n",
    "def download_and_save_image(image_url, filename):\n",
    "    try:\n",
    "        response = requests.get(image_url)\n",
    "        \n",
    "        with open(filename, 'wb') as f:\n",
    "            f.write(response.content)\n",
    "        \n",
    "        print(f\"💾 이미지 저장 완료: {filename}\")\n",
    "        return filename\n",
    "        \n",
    "    except Exception as e:\n",
    "        print(f\"❌ 저장 오류: {e}\")\n",
    "        return None\n",
    "\n",
    "# 생성된 이미지들 저장\n",
    "if 'animal_results' in locals():\n",
    "    for i, result in enumerate(animal_results):\n",
    "        if 'url' in result:\n",
    "            filename = f\"generated_animal_{i+1}.png\"\n",
    "            download_and_save_image(result['url'], filename)"
   ]
  },
  {
   "cell_type": "markdown",
   "metadata": {},
   "source": [
    "## 8️⃣ 고급 기능: Input Fidelity 테스트"
   ]
  },
  {
   "cell_type": "code",
   "execution_count": null,
   "metadata": {},
   "outputs": [],
   "source": [
    "# High Input Fidelity 테스트 (조직 인증 필요)\n",
    "def test_input_fidelity():\n",
    "    prompts = [\n",
    "        {\"prompt\": \"프로필 사진, 전문적인 비즈니스 스타일\", \"fidelity\": \"standard\"},\n",
    "        {\"prompt\": \"프로필 사진, 전문적인 비즈니스 스타일\", \"fidelity\": \"high\"}\n",
    "    ]\n",
    "    \n",
    "    for test in prompts:\n",
    "        try:\n",
    "            print(f\"🔍 테스트: {test['fidelity']} fidelity\")\n",
    "            \n",
    "            # gpt-image-1에서 input_fidelity 파라미터 사용\n",
    "            response = client.images.generate(\n",
    "                model=\"gpt-image-1\",\n",
    "                prompt=test['prompt'],\n",
    "                # input_fidelity=test['fidelity'],  # 조직 인증 후 사용 가능\n",
    "                size=\"1024x1024\",\n",
    "                quality=\"hd\",\n",
    "                n=1\n",
    "            )\n",
    "            \n",
    "            image_url = response.data[0].url\n",
    "            print(f\"✅ {test['fidelity']} fidelity 생성 완료\")\n",
    "            display(Image(url=image_url))\n",
    "            \n",
    "        except Exception as e:\n",
    "            print(f\"❌ {test['fidelity']} fidelity 오류: {e}\")\n",
    "            if \"organization\" in str(e).lower():\n",
    "                print(\"💡 Organization 인증이 필요합니다\")\n",
    "\n",
    "# Fidelity 테스트 실행\n",
    "test_input_fidelity()"
   ]
  },
  {
   "cell_type": "markdown",
   "metadata": {},
   "source": [
    "## 9️⃣ 프로젝트 연동 예시"
   ]
  },
  {
   "cell_type": "code",
   "execution_count": null,
   "metadata": {},
   "outputs": [],
   "source": [
    "# ALL-I-PROJECT 동물 입양 플랫폼용 이미지 생성\n",
    "def generate_adoption_images():\n",
    "    adoption_prompts = [\n",
    "        \"보호소에서 기다리는 귀여운 강아지, 희망적인 표정, 따뜻한 조명\",\n",
    "        \"입양을 기다리는 고양이, 장난스러운 모습, 밝은 배경\",\n",
    "        \"행복한 가족과 새로 입양된 강아지, 집 앞마당에서\",\n",
    "        \"동물 보호소 로비, 깨끗하고 따뜻한 분위기\"\n",
    "    ]\n",
    "    \n",
    "    adoption_images = []\n",
    "    \n",
    "    for prompt in adoption_prompts:\n",
    "        image_url = generate_image(prompt)\n",
    "        if image_url:\n",
    "            adoption_images.append(image_url)\n",
    "    \n",
    "    return adoption_images\n",
    "\n",
    "# 입양 플랫폼용 이미지 생성\n",
    "adoption_images = generate_adoption_images()\n",
    "print(f\"\\n🎉 총 {len(adoption_images)}개의 입양 관련 이미지가 생성되었습니다!\")"
   ]
  },
  {
   "cell_type": "markdown",
   "metadata": {},
   "source": [
    "## 🔧 유틸리티 함수들"
   ]
  },
  {
   "cell_type": "code",
   "execution_count": null,
   "metadata": {},
   "outputs": [],
   "source": [
    "# 이미지 크기 조정\n",
    "def resize_image(image_url, size=(512, 512)):\n",
    "    try:\n",
    "        response = requests.get(image_url)\n",
    "        img = PILImage.open(io.BytesIO(response.content))\n",
    "        \n",
    "        resized = img.resize(size, PILImage.Resampling.LANCZOS)\n",
    "        \n",
    "        # 메모리에서 표시\n",
    "        display(resized)\n",
    "        return resized\n",
    "        \n",
    "    except Exception as e:\n",
    "        print(f\"❌ 크기 조정 오류: {e}\")\n",
    "        return None\n",
    "\n",
    "# 비용 계산기 (근사치)\n",
    "def calculate_cost(num_images, quality=\"standard\", size=\"1024x1024\"):\n",
    "    # GPT Image 1 가격 (근사치)\n",
    "    costs = {\n",
    "        (\"standard\", \"512x512\"): 0.02,\n",
    "        (\"standard\", \"1024x1024\"): 0.07,\n",
    "        (\"hd\", \"1024x1024\"): 0.19\n",
    "    }\n",
    "    \n",
    "    cost_per_image = costs.get((quality, size), 0.07)\n",
    "    total_cost = num_images * cost_per_image\n",
    "    \n",
    "    print(f\"💰 예상 비용: {num_images}개 이미지 × ${cost_per_image} = ${total_cost:.2f}\")\n",
    "    return total_cost\n",
    "\n",
    "# 비용 계산 예시\n",
    "calculate_cost(10, \"standard\", \"1024x1024\")"
   ]
  },
  {
   "cell_type": "markdown",
   "metadata": {},
   "source": [
    "## 📝 사용 팁\n",
    "\n",
    "### 1. API 키 보안\n",
    "- Colab Secrets 사용 권장\n",
    "- 절대 코드에 직접 입력 금지\n",
    "\n",
    "### 2. 모델 선택\n",
    "- **gpt-image-1**: 최신, 고품질 생성\n",
    "- **dall-e-2**: 편집 기능 지원\n",
    "- **dall-e-3**: 중간 성능\n",
    "\n",
    "### 3. Input Fidelity\n",
    "- `input_fidelity=\"high\"`: 얼굴/세부사항 보존\n",
    "- 추가 토큰 소모 (4096-6144)\n",
    "- Organization 인증 필요\n",
    "\n",
    "### 4. 비용 최적화\n",
    "- Quality: standard < hd\n",
    "- Size: 512x512 < 1024x1024\n",
    "- 배치 처리로 효율성 증대"
   ]
  }
 ],
 "metadata": {
  "kernelspec": {
   "display_name": "Python 3",
   "language": "python",
   "name": "python3"
  },
  "language_info": {
   "codemirror_mode": {
    "name": "ipython",
    "version": 3
   },
   "file_extension": ".py",
   "mimetype": "text/x-python",
   "name": "python",
   "nbconvert_exporter": "python",
   "pygments_lexer": "ipython3",
   "version": "3.8.0"
  }
 },
 "nbformat": 4,
 "nbformat_minor": 4
}